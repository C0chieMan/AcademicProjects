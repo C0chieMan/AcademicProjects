{
  "nbformat": 4,
  "nbformat_minor": 0,
  "metadata": {
    "colab": {
      "provenance": [],
      "gpuType": "T4"
    },
    "kernelspec": {
      "name": "python3",
      "display_name": "Python 3"
    },
    "language_info": {
      "name": "python"
    },
    "accelerator": "GPU"
  },
  "cells": [
    {
      "cell_type": "code",
      "execution_count": 122,
      "metadata": {
        "id": "LmLX9F89l2Wf"
      },
      "outputs": [],
      "source": [
        "import numpy as np\n",
        "import pandas as pd\n",
        "import random as rd\n",
        "\n",
        "N = 10000\n",
        "FEATURES = 10\n",
        "\n",
        "cols = \"abcdefghijkmnopqrstuv\"\n",
        "columns = list(cols)[:FEATURES]\n",
        "\n",
        "x = np.random.rand(N, FEATURES)\n",
        "\n",
        "df = pd.DataFrame(x, columns = columns)\n",
        "df[\"y\"] = np.sin(df[\"a\"].values) + np.cos(df[\"b\"].values) + np.random.rand(N) * 0.001\n",
        "\n",
        "df.to_csv(\"data.csv\")\n",
        "\n",
        "\n",
        "unary_funs = [\"sinf\", \"cosf\", \"sqrtf\"]\n",
        "operators = [\"+\", \"-\"]\n",
        "\n",
        "def random_program(depth=4):\n",
        "    r = rd.randint(0,100)\n",
        "    if depth == 0 or r < 30:\n",
        "        c = rd.choice(columns)\n",
        "        return f\"_{c}_\"\n",
        "    elif r < 80:\n",
        "        c = rd.choice(unary_funs)\n",
        "        r = random_program(depth-1)\n",
        "        return f\"{c}({r})\"\n",
        "    else:\n",
        "        c = rd.choice(operators)\n",
        "        r1 = random_program(depth-1)\n",
        "        r2 = random_program(depth-1)\n",
        "        return f\"({r1}) {c} ({r2})\"\n",
        "\n",
        "\n",
        "with open(\"functions.txt\", \"w\") as f:\n",
        "    for _ in range(1000):\n",
        "        f.write(random_program() + \"\\n\")\n",
        "\n"
      ]
    },
    {
      "cell_type": "code",
      "source": [
        "import time\n",
        "\n",
        "start_time = time.time()\n",
        "\n",
        "df = pd.read_csv(\"data.csv\")\n",
        "\n",
        "funs = [ line.strip() for line in open(\"functions.txt\").readlines() ]\n",
        "\n",
        "\n",
        "\n",
        "def score(line):\n",
        "    for u in [\"sinf\", \"cosf\", \"tanf\", \"sqrtf\", \"expf\"]:\n",
        "        line = line.replace(u, f\"np.{u[:-1]}\")\n",
        "    for c in df.columns:\n",
        "        line = line.replace(f\"_{c}_\", f\"(df[\\\"{c}\\\"].values)\")\n",
        "    a = eval(line)\n",
        "    b = df[\"y\"]\n",
        "    e = np.square(np.subtract(a, b)).mean()\n",
        "    return e\n",
        "\n",
        "l = funs[0]\n",
        "print(score(l), l)\n",
        "\n",
        "r = min([ (score(line), line) for line in funs ])\n",
        "print(f\"{r[0]} {r[1]}\")\n",
        "\n",
        "end_time = time.time()\n",
        "execution_time = end_time - start_time\n",
        "print(f\"Execution time: {execution_time} seconds\")"
      ],
      "metadata": {
        "colab": {
          "base_uri": "https://localhost:8080/"
        },
        "id": "Z6xCA8FwnDY2",
        "outputId": "15bc0b0b-c8c0-4a48-81f7-7eb6e9e594d3"
      },
      "execution_count": 123,
      "outputs": [
        {
          "output_type": "stream",
          "name": "stderr",
          "text": [
            "<string>:1: RuntimeWarning: invalid value encountered in sqrt\n"
          ]
        },
        {
          "output_type": "stream",
          "name": "stdout",
          "text": [
            "0.7062157792152494 sqrtf(cosf((cosf(_a_)) + (_c_)))\n",
            "0.08516956572096562 sqrtf((cosf(_i_)) + (cosf(sinf(_j_))))\n",
            "Execution time: 16.45693588256836 seconds\n"
          ]
        }
      ]
    },
    {
      "cell_type": "code",
      "source": [
        "!pip install pycuda"
      ],
      "metadata": {
        "colab": {
          "base_uri": "https://localhost:8080/"
        },
        "id": "ttWtCNDJ04Ta",
        "outputId": "4322e316-2f83-4861-8376-de8b1522b151"
      },
      "execution_count": 1,
      "outputs": [
        {
          "output_type": "stream",
          "name": "stdout",
          "text": [
            "Collecting pycuda\n",
            "  Downloading pycuda-2023.1.tar.gz (1.7 MB)\n",
            "\u001b[2K     \u001b[90m━━━━━━━━━━━━━━━━━━━━━━━━━━━━━━━━━━━━━━━━\u001b[0m \u001b[32m1.7/1.7 MB\u001b[0m \u001b[31m6.5 MB/s\u001b[0m eta \u001b[36m0:00:00\u001b[0m\n",
            "\u001b[?25h  Installing build dependencies ... \u001b[?25l\u001b[?25hdone\n",
            "  Getting requirements to build wheel ... \u001b[?25l\u001b[?25hdone\n",
            "  Preparing metadata (pyproject.toml) ... \u001b[?25l\u001b[?25hdone\n",
            "Collecting pytools>=2011.2 (from pycuda)\n",
            "  Downloading pytools-2023.1.1-py2.py3-none-any.whl (70 kB)\n",
            "\u001b[2K     \u001b[90m━━━━━━━━━━━━━━━━━━━━━━━━━━━━━━━━━━━━━━━━\u001b[0m \u001b[32m70.6/70.6 kB\u001b[0m \u001b[31m9.8 MB/s\u001b[0m eta \u001b[36m0:00:00\u001b[0m\n",
            "\u001b[?25hRequirement already satisfied: appdirs>=1.4.0 in /usr/local/lib/python3.10/dist-packages (from pycuda) (1.4.4)\n",
            "Collecting mako (from pycuda)\n",
            "  Downloading Mako-1.3.0-py3-none-any.whl (78 kB)\n",
            "\u001b[2K     \u001b[90m━━━━━━━━━━━━━━━━━━━━━━━━━━━━━━━━━━━━━━━━\u001b[0m \u001b[32m78.6/78.6 kB\u001b[0m \u001b[31m11.9 MB/s\u001b[0m eta \u001b[36m0:00:00\u001b[0m\n",
            "\u001b[?25hRequirement already satisfied: platformdirs>=2.2.0 in /usr/local/lib/python3.10/dist-packages (from pytools>=2011.2->pycuda) (4.1.0)\n",
            "Requirement already satisfied: typing-extensions>=4.0 in /usr/local/lib/python3.10/dist-packages (from pytools>=2011.2->pycuda) (4.5.0)\n",
            "Requirement already satisfied: MarkupSafe>=0.9.2 in /usr/local/lib/python3.10/dist-packages (from mako->pycuda) (2.1.3)\n",
            "Building wheels for collected packages: pycuda\n",
            "  Building wheel for pycuda (pyproject.toml) ... \u001b[?25l\u001b[?25hdone\n",
            "  Created wheel for pycuda: filename=pycuda-2023.1-cp310-cp310-linux_x86_64.whl size=661205 sha256=ff4681f2e9d4e8db2fdd8ad969fa9d71a985a28bc3ca13986100b30a1eb8d503\n",
            "  Stored in directory: /root/.cache/pip/wheels/46/65/06/b997165edd2fd9690c3497ca54ea4485b571d7bd959c21c6c4\n",
            "Successfully built pycuda\n",
            "Installing collected packages: pytools, mako, pycuda\n",
            "Successfully installed mako-1.3.0 pycuda-2023.1 pytools-2023.1.1\n"
          ]
        }
      ]
    },
    {
      "cell_type": "code",
      "source": [
        "import pandas as pd\n",
        "import numpy as np\n",
        "import pycuda.driver as cuda\n",
        "import pycuda.autoinit\n",
        "from pycuda.compiler import SourceModule\n",
        "\n",
        "start_time = time.time()\n",
        "\n",
        "# Load DataFrame and target column\n",
        "df = pd.read_csv('data.csv')\n",
        "b = df['y'].values.astype(np.float32)\n",
        "block_size = 256\n",
        "\n",
        "# Read functions from file\n",
        "funs = [line.strip() for line in open('functions.txt').readlines()]\n",
        "\n",
        "# CUDA Kernel for MSE calculation\n",
        "mse_kernel_code = \"\"\"\n",
        "__global__ void mse_kernel(float *a, float *b, float *mse, int n) {\n",
        "    int idx = threadIdx.x + blockIdx.x * blockDim.x;\n",
        "    if (idx < n) {\n",
        "        float diff = a[idx] - b[idx];\n",
        "        mse[idx] = diff * diff;\n",
        "    }\n",
        "}\n",
        "\n",
        "__global__ void reduce_min(float *input, float *output, int n) {\n",
        "    extern __shared__ float sdata[];\n",
        "    unsigned int tid = threadIdx.x;\n",
        "    unsigned int i = blockIdx.x * blockDim.x + threadIdx.x;\n",
        "    if (i < n) {\n",
        "        sdata[tid] = input[i];\n",
        "    } else {\n",
        "        sdata[tid] = 1000000;\n",
        "    }\n",
        "    __syncthreads();\n",
        "\n",
        "    for (unsigned int s = blockDim.x / 2; s > 0; s >>= 1) {\n",
        "        if (tid < s) {\n",
        "            sdata[tid] = min(sdata[tid], sdata[tid + s]);\n",
        "        }\n",
        "        __syncthreads();\n",
        "    }\n",
        "\n",
        "    if (tid == 0) output[blockIdx.x] = sdata[0];\n",
        "}\n",
        "\"\"\"\n",
        "\n",
        "# Prepare and compile the CUDA kernel\n",
        "\n",
        "mse_kernel_module = SourceModule(mse_kernel_code)\n",
        "mse_kernel_function = mse_kernel_module.get_function(\"mse_kernel\")\n",
        "\n",
        "# List to store MSEs\n",
        "mse_list = []\n",
        "b_gpu = cuda.mem_alloc(b.nbytes)\n",
        "cuda.memcpy_htod(b_gpu, b)\n",
        "\n",
        "for line in funs:\n",
        "\n",
        "    for u in [\"sinf\", \"cosf\", \"tanf\", \"sqrtf\", \"expf\"]:\n",
        "        line = line.replace(u, f\"np.{u[:-1]}\")\n",
        "    for c in df.columns:\n",
        "        line = line.replace(f\"_{c}_\", f\"df['{c}'].values\")\n",
        "\n",
        "    # Evaluate the expression\n",
        "    a = eval(line)\n",
        "    n = a.size\n",
        "    grid_size = int(np.ceil(n / block_size))\n",
        "\n",
        "    a = a.astype(np.float32)\n",
        "\n",
        "    a_gpu = cuda.mem_alloc(a.nbytes)\n",
        "\n",
        "    mse_gpu = cuda.mem_alloc(a.nbytes)\n",
        "\n",
        "    cuda.memcpy_htod(a_gpu, a)\n",
        "\n",
        "    mse_result = np.empty_like(a)\n",
        "\n",
        "    # Run kernel\n",
        "    mse_kernel_function(a_gpu, b_gpu, mse_gpu, np.int32(n), block=(block_size, 1, 1), grid=(grid_size, 1))\n",
        "\n",
        "    # Copy the result back to host\n",
        "    cuda.memcpy_dtoh(mse_result, mse_gpu)\n",
        "\n",
        "    # Calculate mean of MSE and append to list\n",
        "    mse_list.append(mse_result.mean())\n",
        "\n",
        "    if len(mse_list) == 1:\n",
        "      first_mse = mse_list[0]\n",
        "      first_function = funs[0]\n",
        "      print(first_mse, first_function)\n",
        "\n",
        "    a_gpu.free()\n",
        "    mse_gpu.free()\n",
        "\n",
        "######################################################################################################################################################################\n",
        "b_gpu.free()\n",
        "\n",
        "mse_kernel_function = mse_kernel_module.get_function(\"reduce_min\")\n",
        "\n",
        "mse_array = np.array(mse_list, dtype=np.float32)\n",
        "mse_gpu = cuda.mem_alloc(mse_array.nbytes)\n",
        "cuda.memcpy_htod(mse_gpu, mse_array)\n",
        "\n",
        "min_mse_gpu = cuda.mem_alloc(mse_array.nbytes)\n",
        "\n",
        "num_blocks = int(np.ceil(len(mse_list) / block_size))\n",
        "\n",
        "mse_kernel_function(mse_gpu, min_mse_gpu, np.int32(len(mse_list)), block=(block_size, 1, 1), grid=(num_blocks, 1), shared=block_size * 4)\n",
        "\n",
        "\n",
        "min_mse_result = np.empty(num_blocks, dtype=np.float32)\n",
        "cuda.memcpy_dtoh(min_mse_result, min_mse_gpu)\n",
        "\n",
        "\n",
        "min_mse = np.min(min_mse_result)\n",
        "best_function = funs[mse_list.index(min_mse)]\n",
        "print(f\"Best MSE: {min_mse}, Function: {best_function}\")\n",
        "\n",
        "mse_gpu.free()\n",
        "min_mse_gpu.free()\n",
        "\n",
        "end_time = time.time()\n",
        "execution_time = end_time - start_time\n",
        "print(f\"Execution time: {execution_time} seconds\")\n"
      ],
      "metadata": {
        "id": "cJmHtntt-8qF",
        "colab": {
          "base_uri": "https://localhost:8080/"
        },
        "outputId": "51b43f72-0294-4719-c456-9917fb5d5e27"
      },
      "execution_count": 127,
      "outputs": [
        {
          "output_type": "stream",
          "name": "stderr",
          "text": [
            "<string>:1: RuntimeWarning: invalid value encountered in sqrt\n",
            "/usr/local/lib/python3.10/dist-packages/google/colab/_variable_inspector.py:27: UserWarning: module in out-of-thread context could not be cleaned up\n",
            "  globals().clear()\n"
          ]
        },
        {
          "output_type": "stream",
          "name": "stdout",
          "text": [
            "nan sqrtf(cosf((cosf(_a_)) + (_c_)))\n",
            "Best MSE: 0.08516955375671387, Function: sqrtf((cosf(_i_)) + (cosf(sinf(_j_))))\n",
            "Execution time: 13.653202056884766 seconds\n"
          ]
        }
      ]
    },
    {
      "cell_type": "code",
      "source": [],
      "metadata": {
        "id": "Hvuk8NSmiX9e"
      },
      "execution_count": null,
      "outputs": []
    }
  ]
}